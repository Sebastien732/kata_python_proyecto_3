{
 "cells": [
  {
   "cell_type": "markdown",
   "id": "3a364299",
   "metadata": {},
   "source": [
    "## PROYECTO LÓGICA: Katas de Python\n",
    "1. Escribe una función que reciba una cadena de texto como parámetro y devuelva un diccionario con las frecuencias\n",
    "de cada letra en la cadena. Los espacios no deben ser considerados.\n"
   ]
  },
  {
   "cell_type": "code",
   "execution_count": null,
   "id": "9e3994cb",
   "metadata": {},
   "outputs": [],
   "source": []
  },
  {
   "cell_type": "markdown",
   "id": "a0e2ab37",
   "metadata": {},
   "source": [
    "2. Dada una lista de números, obtén una nueva lista con el doble de cada valor. Usa la función map()"
   ]
  },
  {
   "cell_type": "code",
   "execution_count": 6,
   "id": "28c52308",
   "metadata": {},
   "outputs": [
    {
     "name": "stdout",
     "output_type": "stream",
     "text": [
      "la lista original de numeros es: [3, 5, 15, 22, 1, 125, 1012.5]\n",
      "la nueva lista de numeros es:[6, 10, 30, 44, 2, 250, 2025]\n"
     ]
    }
   ],
   "source": [
    "numeros = [3, 5, 15,22,1,125,1012.5]\n",
    "print(f\"la lista original de numeros es: {numeros}\")\n",
    "\n",
    "def doblar(numeros):\n",
    "    return int(numeros*2)\n",
    "\n",
    "resultado = list(map(doblar,numeros))\n",
    "\n",
    "print(f\"la nueva lista de numeros es:{resultado}\")\n",
    "\n",
    "\n"
   ]
  },
  {
   "cell_type": "markdown",
   "id": "2229b5c3",
   "metadata": {},
   "source": [
    "3. Escribe una función que tome una lista de palabras y una palabra objetivo como parámetros. La función debe\n",
    "devolver una lista con todas las palabras de la lista original que contengan la palabra objetivo.\n"
   ]
  },
  {
   "cell_type": "markdown",
   "id": "de265cb8",
   "metadata": {},
   "source": [
    "4. Genera una función que calcule la diferencia entre los valores de dos listas. Usa la función map()\n"
   ]
  },
  {
   "cell_type": "code",
   "execution_count": 15,
   "id": "9d98d0df",
   "metadata": {},
   "outputs": [
    {
     "name": "stdout",
     "output_type": "stream",
     "text": [
      "la lista 1 es:[12, 36, 3, 85, 104, 21, 65]\n",
      "la lista 2 es:[12, 25, 48, 2, 45, 48, 21]\n",
      "la lista 3 representa la lista 1 menos los valores de la lista 2:[0, 11, -45, 83, 59, -27, 44]  \n"
     ]
    }
   ],
   "source": [
    "lista_1 = [12,36,3,85,104,21,65]\n",
    "lista_2 = [12,25,48,2,45,48,21]\n",
    "\n",
    "def diferencia(lista_1, lista_2):\n",
    "    return list(map(lambda X,Y:\n",
    "                    X-Y,lista_1, lista_2))\n",
    "\n",
    "lista_3 = list(diferencia(lista_1,lista_2))\n",
    "\n",
    "print(f\"la lista 1 es:{lista_1}\")\n",
    "print(f\"la lista 2 es:{lista_2}\")\n",
    "print(f\"la lista 3 representa la lista 1 menos los valores de la lista 2:{lista_3}  \")"
   ]
  },
  {
   "cell_type": "markdown",
   "id": "fedc60ed",
   "metadata": {},
   "source": [
    "\n",
    "5. Ecribe una función que tome una lista de números como parámetro y un valor opcional nota_aprobado, que por\n",
    "defecto es 5. La función debe calcular la media de los números en la lista y determinar si la media es mayor o igual\n",
    "que nota aprobado. Si es así, el estado será \"aprobado\", de lo contrario, será \"suspenso\". La función debe devolver\n",
    "una tupla que contenga la media y el estado.\n"
   ]
  },
  {
   "cell_type": "markdown",
   "id": "f700d7d4",
   "metadata": {},
   "source": [
    "\n",
    "6. Escribe una función que calcule el factorial de un número de manera recursiva.\n"
   ]
  },
  {
   "cell_type": "markdown",
   "id": "2624160d",
   "metadata": {},
   "source": [
    "\n",
    "7. Genera una función que convierta una lista de tuplas a una lista de strings. Usa la función map()\n"
   ]
  },
  {
   "cell_type": "markdown",
   "id": "a22c0cc1",
   "metadata": {},
   "source": [
    "\n",
    "8. Escribe un programa que pida al usuario dos números e intente dividirlos. Si el usuario ingresa un valor no numérico\n",
    "o intenta dividir por cero, maneja esas excepciones de manera adecuada. Asegúrate de mostrar un mensaje\n",
    "indicando si la división fue exitosa o no.\n"
   ]
  },
  {
   "cell_type": "markdown",
   "id": "3c7ca223",
   "metadata": {},
   "source": [
    "\n",
    "9. Escribe una función que tome una lista de nombres de mascotas como parámetro y devuelva una nueva lista\n",
    "excluyendo ciertas mascotas prohibidas en España. La lista de mascotas a excluir es [\"Mapache\", \"Tigre\",\n",
    "\"Serpiente Pitón\", \"Cocodrilo\", \"Oso\"].Usa la función filter()\n"
   ]
  },
  {
   "cell_type": "markdown",
   "id": "dbbbdf81",
   "metadata": {},
   "source": [
    "\n",
    "10. Escribe una función que reciba una lista de números y calcule su promedio. Si la lista está vacía, lanza una\n",
    "excepción personalizada y maneja el error adecuadamente.\n"
   ]
  },
  {
   "cell_type": "markdown",
   "id": "0d472b8b",
   "metadata": {},
   "source": [
    "\n",
    "11. Escribe un programa que pida al usuario que introduzca su edad. Si el usuario ingresa un valor no numérico o un\n",
    "valor fuera del rango esperado (por ejemplo, menor que 0 o mayor que 120), maneja las excepciones\n",
    "adecuadamente.\n"
   ]
  },
  {
   "cell_type": "markdown",
   "id": "39de6a34",
   "metadata": {},
   "source": [
    "\n",
    "12. Genera una función que al recibir una frase devuelva una lista con la longitud de cada palabra. Usa la función map()\n"
   ]
  },
  {
   "cell_type": "markdown",
   "id": "fcd8ed75",
   "metadata": {},
   "source": [
    "\n",
    "13. Genera una función la cual, para un conjunto de caracteres, devuelva una lista de tuplas con cada letra en\n",
    "mayúsculas y minúsculas. Las letras no pueden estar repetidas .Usa la función map()\n"
   ]
  },
  {
   "cell_type": "markdown",
   "id": "cb226a3a",
   "metadata": {},
   "source": [
    "\n",
    "14. Crea una función que retorne las palabras de una lista de palabras que comience con una letra en especifico. Usa la\n",
    "función filter()\n"
   ]
  },
  {
   "cell_type": "markdown",
   "id": "240e4c0e",
   "metadata": {},
   "source": [
    "\n",
    "15. Crea una función lambda que sume 3 a cada número de una lista dada.\n"
   ]
  },
  {
   "cell_type": "markdown",
   "id": "5715e29f",
   "metadata": {},
   "source": [
    "\n",
    "16. Escribe una función que tome una cadena de texto y un número entero n como parámetros y devuelva una lista de\n",
    "todas las palabras que sean más largas que n. Usa la función filter()\n"
   ]
  },
  {
   "cell_type": "markdown",
   "id": "63caf6a1",
   "metadata": {},
   "source": [
    "\n",
    "17. Crea una función que tome una lista de dígitos y devuelva el número correspondiente. Por ejemplo, [5,7,2]\n",
    "corresponde al número quinientos setenta y dos (572). Usa la función reduce()\n"
   ]
  },
  {
   "cell_type": "markdown",
   "id": "b923d171",
   "metadata": {},
   "source": [
    "\n",
    "18. Escribe un programa en Python que cree una lista de diccionarios que contenga información de estudiantes\n",
    "(nombre, edad, calificación) y use la función filter para extraer a los estudiantes con una calificación mayor o igual a\n",
    "90. Usa la función filter()\n"
   ]
  },
  {
   "cell_type": "markdown",
   "id": "ea199b89",
   "metadata": {},
   "source": [
    "\n",
    "19. Crea una función lambda que filtre los números impares de una lista dada.\n"
   ]
  },
  {
   "cell_type": "markdown",
   "id": "bf568359",
   "metadata": {},
   "source": [
    "\n",
    "20. Para una lista con elementos tipo integer y string obtén una nueva lista sólo con los valores int. Usa la función\n",
    "filter()\n"
   ]
  },
  {
   "cell_type": "markdown",
   "id": "6e186f30",
   "metadata": {},
   "source": [
    "\n",
    "21. Crea una función que calcule el cubo de un número dado mediante una función lambda\n"
   ]
  },
  {
   "cell_type": "markdown",
   "id": "104d4129",
   "metadata": {},
   "source": [
    "\n",
    "22. Dada una lista numérica, obtén el producto total de los valores de dicha lista.Usa la función reduce() .\n"
   ]
  },
  {
   "cell_type": "markdown",
   "id": "2d83df51",
   "metadata": {},
   "source": [
    "\n",
    "23. Concatena una lista de palabras.Usa la función reduce() .\n"
   ]
  },
  {
   "cell_type": "markdown",
   "id": "f4b6e67b",
   "metadata": {},
   "source": [
    "24. Calcula la diferencia total en los valores de una lista. Usa la función reduce() .\n"
   ]
  },
  {
   "cell_type": "markdown",
   "id": "28fea66e",
   "metadata": {},
   "source": [
    "\n",
    "25. Crea una función que cuente el número de caracteres en una cadena de texto dada.\n"
   ]
  },
  {
   "cell_type": "markdown",
   "id": "c747c52b",
   "metadata": {},
   "source": [
    "\n",
    "26. Crea una función lambda que calcule el resto de la división entre dos números dados.\n"
   ]
  },
  {
   "cell_type": "markdown",
   "id": "c5a6c84b",
   "metadata": {},
   "source": [
    "\n",
    "27. Crea una función que calcule el promedio de una lista de números.\n"
   ]
  },
  {
   "cell_type": "markdown",
   "id": "91291222",
   "metadata": {},
   "source": [
    "\n",
    "28. Crea una función que busque y devuelva el primer elemento duplicado en una lista dada.\n"
   ]
  },
  {
   "cell_type": "markdown",
   "id": "d69b2fa2",
   "metadata": {},
   "source": [
    "\n",
    "29. Crea una función que convierta una variable en una cadena de texto y enmascare todos los caracteres con el\n",
    "carácter '#', excepto los últimos cuatro.\n"
   ]
  },
  {
   "cell_type": "markdown",
   "id": "8d7b2ec5",
   "metadata": {},
   "source": [
    "\n",
    "30. Crea una función que determine si dos palabras son anagramas, es decir, si están formadas por las mismas letras\n",
    "pero en diferente orden.\n"
   ]
  },
  {
   "cell_type": "markdown",
   "id": "e8261262",
   "metadata": {},
   "source": [
    "\n",
    "31. Crea una función que solicite al usuario ingresar una lista de nombres y luego solicite un nombre para buscar en\n",
    "esa lista. Si el nombre está en la lista, se imprime un mensaje indicando que fue encontrado, de lo contrario, se\n",
    "lanza una excepción.\n"
   ]
  },
  {
   "cell_type": "markdown",
   "id": "e05cf114",
   "metadata": {},
   "source": [
    "\n",
    "32. Crea una función que tome un nombre completo y una lista de empleados, busque el nombre completo en la lista y\n",
    "devuelve el puesto del empleado si está en la lista, de lo contrario, devuelve un mensaje indicando que la persona\n",
    "no trabaja aquí.\n"
   ]
  },
  {
   "cell_type": "markdown",
   "id": "185be67f",
   "metadata": {},
   "source": [
    "\n",
    "33. Crea una función lambda que sume elementos correspondientes de dos listas dadas.\n"
   ]
  },
  {
   "cell_type": "markdown",
   "id": "26388ba3",
   "metadata": {},
   "source": [
    "\n",
    "34. Crea la clase Arbol , define un árbol genérico con un tronco y ramas como atributos. Los métodos disponibles son:\n",
    "crecer_tronco , nueva_rama , crecer_ramas , quitar_rama e info_arbol . El objetivo es implementar estos métodos para\n",
    "manipular la estructura del árbol.\n",
    "Código a seguir:\n",
    "1. Inicializar un árbol con un tronco de longitud 1 y una lista vacía de ramas.\n",
    "2. Implementar el método crecer_tronco para aumentar la longitud del tronco en una unidad.\n",
    "3. Implementar el método nueva_rama para agregar una nueva rama de longitud 1 a la lista de ramas.\n",
    "4. Implementar el método crecer_ramas para aumentar en una unidad la longitud de todas las ramas existentes.\n",
    "5. Implementar el método quitar_rama para eliminar una rama en una posición específica.\n",
    "6. Implementar el método\n",
    "info_arbol para devolver información sobre la longitud del tronco, el número de ramas y las longitudes de las\n",
    "mismas.\n",
    "Caso de uso:\n",
    "1. Crear un árbol.\n",
    "2. Hacer crecer el tronco del árbol una unidad.\n",
    "3. Añadir una nueva rama al árbol.\n",
    "4. Hacer crecer todas las ramas del árbol una unidad.\n",
    "5. Añadir dos nuevas ramas al árbol.\n",
    "6. Retirar la rama situada en la posición 2.\n",
    "7. Obtener información sobre el árbol.\n"
   ]
  },
  {
   "cell_type": "markdown",
   "id": "80e8c844",
   "metadata": {},
   "source": [
    "\n",
    "36. Crea la clase UsuarioBanco ,representa a un usuario de un banco con su nombre, saldo y si tiene o no cuenta\n",
    "corriente. Proporciona métodos para realizar operaciones como retirar dinero, transferir dinero desde otro usuario y\n",
    "agregar dinero al saldo.\n",
    "Código a seguir:\n",
    "1. Inicializar un usuario con su nombre, saldo y si tiene o no cuenta corriente mediante True y False .\n",
    "2. Implementar el método retirar_dinero para retirar dinero del saldo del usuario. Lanzará un error en caso de no\n",
    "poder hacerse.\n",
    "3. Implementar el método transferir_dinero para realizar una transferencia desde otro usuario al usuario actual.\n",
    "Lanzará un error en caso de no poder hacerse.\n",
    "4. Implementar el método agregar_dinero para agregar dinero al saldo del usuario.\n",
    "Caso de uso:\n",
    "1. Crear dos usuarios: \"Alicia\" con saldo inicial de 100 y \"Bob\" con saldo inicial de 50, ambos con cuenta corriente.\n",
    "2. Agregar 20 unidades de saldo de \"Bob\".\n",
    "3. Hacer una transferencia de 80 unidades desde \"Bob\" a \"Alicia\".\n",
    "4. Retirar 50 unidades de saldo a \"Alicia\".\n"
   ]
  },
  {
   "cell_type": "markdown",
   "id": "0505f5be",
   "metadata": {},
   "source": [
    "37. Crea una función llamada procesar_texto que procesa un texto según la opción especificada: contar_palabras ,\n",
    "reemplazar_palabras , eliminar_palabra . Estas opciones son otras funciones que tenemos que definir primero y llamar dentro\n",
    "de la función procesar_texto .\n",
    "Código a seguir:\n",
    "1. Crear una función contar_palabras para contar el número de veces que aparece cada palabra en el texto. Tiene\n",
    "que devolver un diccionario.\n",
    "2. Crear una función reemplazar_palabras para remplazar una palabra_original del texto por una palabra_nueva . Tiene\n",
    "que devolver el texto con el remplazo de palabras.\n",
    "3. Crear una función eliminar_palabra para eliminar una palabra del texto. Tiene que devolver el texto con la palabra\n",
    "eliminada.\n",
    "4. Crear la función procesar_texto que tome un texto, una opción(entre \"contar\", \"reemplazar\", \"eliminar\") y un\n",
    "número de argumentos variable según la opción indicada.\n",
    "Caso de uso:\n",
    "Comprueba el funcionamiento completo de la función procesar_texto\n"
   ]
  },
  {
   "cell_type": "markdown",
   "id": "d5e21bdf",
   "metadata": {},
   "source": [
    "\n",
    "38. Genera un programa que nos diga si es de noche, de día o tarde según la hora proporcionada por el usuario.\n"
   ]
  },
  {
   "cell_type": "markdown",
   "id": "2b53ba22",
   "metadata": {},
   "source": [
    "\n",
    "39. Escribe un programa que determine qué calificación en texto tiene un alumno en base a su calificación numérica.\n",
    "Las reglas de calificación son:\n",
    "- 0 - 69 insuficiente\n",
    "- 70 - 79 bien\n",
    "- 80 - 89 muy bien\n",
    "- 90 - 100 excelente\n"
   ]
  },
  {
   "cell_type": "markdown",
   "id": "5cc39bf2",
   "metadata": {},
   "source": [
    "\n",
    "40. Escribe una función que tome dos parámetros: figura (una cadena que puede ser \"rectangulo\" , \"circulo\" o\n",
    "\"triangulo\" ) y datos (una tupla con los datos necesarios para calcular el área de la figura).\n"
   ]
  },
  {
   "cell_type": "markdown",
   "id": "898a8bd5",
   "metadata": {},
   "source": [
    "\n",
    "41. En este ejercicio, se te pedirá que escribas un programa en Python que utilice condicionales para determinar el\n",
    "monto final de una compra en una tienda en línea, después de aplicar un descuento. El programa debe hacer lo\n",
    "siguiente:\n",
    "1. Solicita al usuario que ingrese el precio original de un artículo.\n",
    "2. Pregunta al usuario si tiene un cupón de descuento (respuesta sí o no).\n",
    "3. Si el usuario responde que sí, solicita que ingrese el valor del cupón de descuento.\n",
    "4. Aplica el descuento al precio original del artículo, siempre y cuando el valor del cupón sea válido (es decir, mayor\n",
    "a cero). Por ejemplo, descuento de 15€.\n",
    "5. Muestra el precio final de la compra, teniendo en cuenta el descuento aplicado o sin él.\n",
    "6. Recuerda utilizar estructuras de control de flujo como if, elif y else para llevar a cabo estas acciones en tu\n",
    "programa de Python.\n"
   ]
  }
 ],
 "metadata": {
  "kernelspec": {
   "display_name": "Python 3",
   "language": "python",
   "name": "python3"
  },
  "language_info": {
   "codemirror_mode": {
    "name": "ipython",
    "version": 3
   },
   "file_extension": ".py",
   "mimetype": "text/x-python",
   "name": "python",
   "nbconvert_exporter": "python",
   "pygments_lexer": "ipython3",
   "version": "3.13.1"
  }
 },
 "nbformat": 4,
 "nbformat_minor": 5
}
