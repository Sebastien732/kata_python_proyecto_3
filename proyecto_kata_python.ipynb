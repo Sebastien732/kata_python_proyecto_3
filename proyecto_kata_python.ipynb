{
 "cells": [
  {
   "cell_type": "markdown",
   "id": "3a364299",
   "metadata": {},
   "source": [
    "## PROYECTO LÓGICA: Katas de Python  \n",
    "1. Escribe una función que reciba una cadena de texto como parámetro y devuelva un diccionario con las frecuencias\n",
    "de cada letra en la cadena. Los espacios no deben ser considerados.\n"
   ]
  },
  {
   "cell_type": "code",
   "execution_count": 5,
   "id": "9e3994cb",
   "metadata": {},
   "outputs": [
    {
     "name": "stdout",
     "output_type": "stream",
     "text": [
      "El sol brilla de forma intensa\n",
      "Elsolbrilladeformaintensa\n"
     ]
    },
    {
     "data": {
      "text/plain": [
       "{'E': 1,\n",
       " 'l': 4,\n",
       " 's': 2,\n",
       " 'o': 2,\n",
       " 'b': 1,\n",
       " 'r': 2,\n",
       " 'i': 2,\n",
       " 'a': 3,\n",
       " 'd': 1,\n",
       " 'e': 2,\n",
       " 'f': 1,\n",
       " 'm': 1,\n",
       " 'n': 2,\n",
       " 't': 1}"
      ]
     },
     "execution_count": 5,
     "metadata": {},
     "output_type": "execute_result"
    }
   ],
   "source": [
    "def contar_letras():\n",
    "    contador_letra = {} # Crea un diccionario vacío para almacenar la frecuencia de cada letra\n",
    "    cadena_usuario = input(\"Introduce una frase: \") # Solicita al usuario una frase\n",
    "    cadena_sin_espacio = cadena_usuario.replace(\" \", \"\") # Elimina los espacios de la frase\n",
    "    \n",
    "    for letra in cadena_sin_espacio:\n",
    "    \n",
    "        if letra in contador_letra:     # Verifica si la letra ya existe en el diccionario y aumenta su contador\n",
    "            contador_letra[letra] += 1\n",
    "        else:                           # Añade la letra al diccionario con valor inicial 1\n",
    "            contador_letra[letra] = 1 \n",
    "    print(cadena_usuario)\n",
    "    print(cadena_sin_espacio)\n",
    "\n",
    "    return contador_letra # Devuelve el diccionario con las frecuencias de las letras\n",
    "\n",
    "contar_letras() #llamamos a la funcion"
   ]
  },
  {
   "cell_type": "markdown",
   "id": "a0e2ab37",
   "metadata": {},
   "source": [
    "2. Dada una lista de números, obtén una nueva lista con el doble de cada valor. Usa la función map()"
   ]
  },
  {
   "cell_type": "code",
   "execution_count": null,
   "id": "28c52308",
   "metadata": {},
   "outputs": [
    {
     "name": "stdout",
     "output_type": "stream",
     "text": [
      "la lista original de numeros es: [3, 5, 15, 22, 1, 125, 1012.5]\n",
      "la nueva lista de numeros es:[6, 10, 30, 44, 2, 250, 2025]\n"
     ]
    }
   ],
   "source": [
    "numeros = [3, 5, 15, 22, 1, 125, 1012.5]  # Crea una lista que contiene números enteros y decimales\n",
    "print(f\"la lista original de numeros es: {numeros}\")  # Muestra por pantalla la lista original\n",
    "\n",
    "def doblar(numeros):  # Define una función que recibe un número y devuelve su valor doblado\n",
    "    return int(numeros * 2)  # Multiplica el número por 2 y lo convierte en entero\n",
    "\n",
    "resultado = list(map(doblar, numeros))  # Aplica la función 'doblar' a cada elemento de la lista y guarda los resultados en una nueva lista\n",
    "\n",
    "print(f\"la nueva lista de numeros es:{resultado}\")  # Muestra por pantalla la nueva lista con los valores transformados\n",
    "\n"
   ]
  },
  {
   "cell_type": "markdown",
   "id": "2229b5c3",
   "metadata": {},
   "source": [
    "3. Escribe una función que tome una lista de palabras y una palabra objetivo como parámetros. La función debe\n",
    "devolver una lista con todas las palabras de la lista original que contengan la palabra objetivo.\n"
   ]
  },
  {
   "cell_type": "code",
   "execution_count": null,
   "id": "6ccd0e0e",
   "metadata": {},
   "outputs": [
    {
     "name": "stdout",
     "output_type": "stream",
     "text": [
      "['educacion', 'integracion', 'imaginacion']\n"
     ]
    }
   ],
   "source": [
    "def filtra_palabra_cion(lista_palabras, palabra_objetivo):  # Define una función que recibe una lista de palabras y una subcadena objetivo\n",
    "    lista_filtrada = []  # Crea una lista vacía para guardar las palabras que contienen la subcadena\n",
    "    for palabra in lista_palabras:  # Recorre cada palabra de la lista original\n",
    "        if palabra_objetivo in palabra:  # Verifica si la subcadena objetivo está dentro de la palabra actual\n",
    "            lista_filtrada.append(palabra)  # Añade la palabra a la lista filtrada si contiene la subcadena\n",
    "    return lista_filtrada  # Devuelve la lista con las palabras que cumplen la condición\n",
    "\n",
    "palabras = [\"educacion\", \"integracion\", \"respeto\", \"vision\", \"division\", \"imaginacion\"]  # Declara una lista con palabras variadas\n",
    "objetivo = \"cion\"  # Asigna como objetivo la subcadena que se quiere buscar\n",
    "lista_filtrada = filtra_palabra_cion(palabras, objetivo)  # Llama a la función y almacena las palabras que contienen la subcadena\n",
    "print(lista_filtrada)  # Muestra la lista resultante con las palabras filtradas\n"
   ]
  },
  {
   "cell_type": "markdown",
   "id": "de265cb8",
   "metadata": {},
   "source": [
    "4. Genera una función que calcule la diferencia entre los valores de dos listas. Usa la función map()\n"
   ]
  },
  {
   "cell_type": "code",
   "execution_count": null,
   "id": "9d98d0df",
   "metadata": {},
   "outputs": [
    {
     "name": "stdout",
     "output_type": "stream",
     "text": [
      "la lista 1 es:[12, 36, 3, 85, 104, 21, 65]\n",
      "la lista 2 es:[12, 25, 48, 2, 45, 48, 21]\n",
      "la lista 3 representa los valores de la lista 1 menos los valores de la lista 2:[0, 11, -45, 83, 59, -27, 44]  \n"
     ]
    }
   ],
   "source": [
    "lista_1 = [12, 36, 3, 85, 104, 21, 65]  \n",
    "lista_2 = [12, 25, 48, 2, 45, 48, 21]   \n",
    "\n",
    "def diferencia(lista_1, lista_2):  # Define una función que recibe dos listas como parámetros\n",
    "    return list(map(lambda X, Y: X - Y, lista_1, lista_2))  # Resta los elementos correspondientes de ambas listas usando map y una función lambda\n",
    "\n",
    "lista_3 = list(diferencia(lista_1, lista_2))  # Llama a la función y guarda el resultado en una nueva lista\n",
    "\n",
    "print(f\"la lista 1 es:{lista_1}\")  \n",
    "print(f\"la lista 2 es:{lista_2}\")  \n",
    "print(f\"la lista 3 representa los valores de la lista 1 menos los valores de la lista 2:{lista_3}\")  # Muestra el resultado de la resta elemento a elemento\n"
   ]
  },
  {
   "cell_type": "markdown",
   "id": "fedc60ed",
   "metadata": {},
   "source": [
    "\n",
    "5. Ecribe una función que tome una lista de números como parámetro y un valor opcional nota_aprobado, que por\n",
    "defecto es 5. La función debe calcular la media de los números en la lista y determinar si la media es mayor o igual\n",
    "que nota aprobado. Si es así, el estado será \"aprobado\", de lo contrario, será \"suspenso\". La función debe devolver\n",
    "una tupla que contenga la media y el estado.\n"
   ]
  },
  {
   "cell_type": "code",
   "execution_count": null,
   "id": "221d1b14",
   "metadata": {},
   "outputs": [
    {
     "name": "stdout",
     "output_type": "stream",
     "text": [
      "aprobado\n"
     ]
    }
   ],
   "source": [
    "def calcula_nota_media(lista_numeros, nota_minima):  # Define una función que recibe una lista de notas y la nota mínima para aprobar\n",
    "    media = sum(lista_numeros) / len(lista_numeros)  # Calcula la media aritmética de las notas\n",
    "    if media >= nota_minima:  # Comprueba si la media es mayor o igual que la nota mínima\n",
    "        print(\"aprobado\")  # Muestra \"aprobado\" si la condición se cumple\n",
    "    else:\n",
    "        print(\"suspenso\")  # Muestra \"suspenso\" si la media es menor que la nota mínima\n",
    "\n",
    "numeros = [4, 7, 5, 6, 7, 6, 5]  # Declara una lista de notas numéricas\n",
    "nota_minima = 5  # Establece la nota mínima para aprobar\n",
    "\n",
    "calcula_nota_media(numeros, nota_minima)  # Llama a la función con los argumentos definidos\n"
   ]
  },
  {
   "cell_type": "markdown",
   "id": "f700d7d4",
   "metadata": {},
   "source": [
    "\n",
    "6. Escribe una función que calcule el factorial de un número de manera recursiva.\n"
   ]
  },
  {
   "cell_type": "code",
   "execution_count": null,
   "id": "97311955",
   "metadata": {},
   "outputs": [
    {
     "name": "stdout",
     "output_type": "stream",
     "text": [
      "24\n"
     ]
    }
   ],
   "source": [
    "def calc_factorial(n):  \n",
    "    if n < 0:  # Comprueba si el número es negativo para evitar errores\n",
    "        print(\"imposible\")  # Muestra un mensaje de error si el número es negativo\n",
    "    elif n == 0 or n == 1:  # Verifica si el número es 0 o 1\n",
    "        return 1  # Devuelve 1 porque el factorial de 0 y 1 es 1\n",
    "    else:\n",
    "        return n * calc_factorial(n - 1)  # Realiza la llamada recursiva multiplicando n por el factorial de n-1\n",
    "\n",
    "num = 4  # Asigna el valor 4 a la variable num\n",
    "print(calc_factorial(num))  # Imprime el resultado del factorial calculado\n"
   ]
  },
  {
   "cell_type": "markdown",
   "id": "2624160d",
   "metadata": {},
   "source": [
    "\n",
    "7. Genera una función que convierta una lista de tuplas a una lista de strings. Usa la función map()\n"
   ]
  },
  {
   "cell_type": "code",
   "execution_count": null,
   "id": "1667e357",
   "metadata": {},
   "outputs": [
    {
     "name": "stdout",
     "output_type": "stream",
     "text": [
      "['uno dos', 'tres cuatro']\n",
      "<class 'list'>\n"
     ]
    }
   ],
   "source": [
    "def conv_tpl_str(lista_tuplas):  \n",
    "    return list(map(lambda t: \" \".join(t), lista_tuplas))  # Aplica una función lambda para unir los elementos de cada tupla y devuelve una lista\n",
    "\n",
    "lista_tuplas = [(\"uno\", \"dos\"), (\"tres\", \"cuatro\")]  # Crea una lista de tuplas con cadenas de texto\n",
    "\n",
    "lista_strings = conv_tpl_str(lista_tuplas)  # Llama a la función y guarda el resultado en una nueva lista\n",
    "\n",
    "print(lista_strings)  # Muestra la lista resultante de cadenas\n",
    "print(type(lista_strings))  # Muestra el tipo del objeto resultante (list)\n",
    "\n",
    "   "
   ]
  },
  {
   "cell_type": "markdown",
   "id": "a22c0cc1",
   "metadata": {},
   "source": [
    "\n",
    "8. Escribe un programa que pida al usuario dos números e intente dividirlos. Si el usuario ingresa un valor no numérico\n",
    "o intenta dividir por cero, maneja esas excepciones de manera adecuada. Asegúrate de mostrar un mensaje\n",
    "indicando si la división fue exitosa o no.\n"
   ]
  },
  {
   "cell_type": "code",
   "execution_count": 26,
   "id": "50c44c59",
   "metadata": {},
   "outputs": [
    {
     "name": "stdout",
     "output_type": "stream",
     "text": [
      "El resultado de la división es: 22.65\n"
     ]
    }
   ],
   "source": [
    "def dividir_numeros():  \n",
    "    try:\n",
    "        num1 = float(input(\"Introduce el primer número: \"))  # Solicita el primer número y lo convierte a decimal\n",
    "        num2 = float(input(\"Introduce el segundo número: \"))  # Solicita el segundo número y lo convierte a decimal\n",
    "        resultado = num1 / num2  # Realiza la división y guarda el resultado\n",
    "    except ZeroDivisionError:  # Captura el error si el segundo número es cero\n",
    "        print(\"Error: No se puede dividir entre cero.\")  # Muestra un mensaje si hay intento de división por cero\n",
    "    except ValueError:  # Captura errores si las entradas no son números válidos\n",
    "        print(\"Error: Por favor, introduce solo números.\")  # Informa al usuario sobre el formato incorrecto\n",
    "    else:\n",
    "        print(f\"El resultado de la división es: {resultado}\")  # Muestra el resultado si no hubo errores\n",
    "\n",
    "dividir_numeros();  # Llama a la función para ejecutarla\n",
    "\n"
   ]
  },
  {
   "cell_type": "markdown",
   "id": "3c7ca223",
   "metadata": {},
   "source": [
    "\n",
    "9. Escribe una función que tome una lista de nombres de mascotas como parámetro y devuelva una nueva lista\n",
    "excluyendo ciertas mascotas prohibidas en España. La lista de mascotas a excluir es [\"Mapache\", \"Tigre\",\n",
    "\"Serpiente Pitón\", \"Cocodrilo\", \"Oso\"].Usa la función filter()\n"
   ]
  },
  {
   "cell_type": "code",
   "execution_count": 27,
   "id": "e3961b1b",
   "metadata": {},
   "outputs": [
    {
     "name": "stdout",
     "output_type": "stream",
     "text": [
      "['Gato', 'Conejo', 'Cacatoes', 'Jabali', 'Tortuga']\n"
     ]
    }
   ],
   "source": [
    "lista_animales = [\"Gato\", \"Conejo\", \"Mapache\", \"Tigre\", \"Serpiente Pitón\", \"Cocodrilo\", \"Oso\", \"Cacatoes\", \"Jabali\", \"Tortuga\"]  # Define una lista con diferentes tipos de animales\n",
    "\n",
    "def filtrar_mascotas_autorizadas(lista_anim):  # Define una función que evalúa si un animal está autorizado como mascota\n",
    "    animales_prohibidos = [\"Mapache\", \"Tigre\", \"Serpiente Pitón\", \"Cocodrilo\", \"Oso\"]  # Declara una lista con animales no permitidos\n",
    "    return lista_anim not in animales_prohibidos  # Devuelve True si el animal no está en la lista de prohibidos\n",
    "\n",
    "animales_acceptados = list(filter(filtrar_mascotas_autorizadas, lista_animales))  # Filtra los animales permitidos y convierte el resultado en lista\n",
    "\n",
    "print(animales_acceptados)  # Muestra por pantalla la lista de animales autorizados\n",
    "\n",
    "\n"
   ]
  },
  {
   "cell_type": "markdown",
   "id": "dbbbdf81",
   "metadata": {},
   "source": [
    "\n",
    "10. Escribe una función que reciba una lista de números y calcule su promedio. Si la lista está vacía, lanza una\n",
    "excepción personalizada y maneja el error adecuadamente.\n"
   ]
  },
  {
   "cell_type": "code",
   "execution_count": 28,
   "id": "fa82cce8",
   "metadata": {},
   "outputs": [
    {
     "data": {
      "text/plain": [
       "124.33333333333333"
      ]
     },
     "execution_count": 28,
     "metadata": {},
     "output_type": "execute_result"
    }
   ],
   "source": [
    "def calcular_promedio(list_num):  \n",
    "    if not list_num:  \n",
    "        return \"La lista esta vacía\"  # Devuelve un mensaje si no hay elementos en la lista\n",
    "    promedio = sum(list_num) / len(list_num)  # Calcula la suma dividida entre la cantidad de elementos\n",
    "    return promedio  # Devuelve el promedio calculado\n",
    "\n",
    "calcular_promedio([50, 52, 85, 97, 410, 52])  # Llama a la función con una lista de números y ejecuta el cálculo\n",
    "\n"
   ]
  },
  {
   "cell_type": "markdown",
   "id": "0d472b8b",
   "metadata": {},
   "source": [
    "\n",
    "11. Escribe un programa que pida al usuario que introduzca su edad. Si el usuario ingresa un valor no numérico o un\n",
    "valor fuera del rango esperado (por ejemplo, menor que 0 o mayor que 120), maneja las excepciones\n",
    "adecuadamente.\n"
   ]
  },
  {
   "cell_type": "code",
   "execution_count": null,
   "id": "9928cd13",
   "metadata": {},
   "outputs": [
    {
     "name": "stdout",
     "output_type": "stream",
     "text": [
      "Tienes 45 años\n"
     ]
    }
   ],
   "source": [
    "def intro_edad():  # Define una función que solicita al usuario su edad y la valida\n",
    "    try:\n",
    "        edad = int(input(\"Introduce tu edad\"))  # Pide al usuario que introduzca su edad y la convierte a entero\n",
    "        if edad > 120 or edad < 0:  # Comprueba si la edad está fuera de un rango razonable\n",
    "            print(\"El número introducido es incorrecto\")  # Muestra un mensaje de error si la edad no es válida\n",
    "        else:\n",
    "            print(f\"Tienes {edad} años\")  # Muestra la edad del usuario si está dentro de un rango válido\n",
    "    except ValueError:  # Captura el error si el usuario introduce un valor que no es numérico\n",
    "        print(\"Solo puedes introducir números\")  # Informa al usuario que solo debe introducir números\n",
    "\n",
    "intro_edad()  # Llama a la función para ejecutarla\n"
   ]
  },
  {
   "cell_type": "markdown",
   "id": "39de6a34",
   "metadata": {},
   "source": [
    "\n",
    "12. Genera una función que al recibir una frase devuelva una lista con la longitud de cada palabra. Usa la función map()\n"
   ]
  },
  {
   "cell_type": "code",
   "execution_count": null,
   "id": "e560573a",
   "metadata": {},
   "outputs": [
    {
     "name": "stdout",
     "output_type": "stream",
     "text": [
      "[3, 2, 3, 5, 2, 7, 4, 7, 4, 4, 7, 6, 3, 7, 2, 4, 7]\n"
     ]
    }
   ],
   "source": [
    "frase_ejemplo = \"Eso es una frase de ejemplo para enseñar como esta funcion cuenta las lettras de cada palabra\"  \n",
    "\n",
    "def contar_letras_palabras(frase):  \n",
    "    div_palabra = frase.split()  # Divide la frase en palabras separadas y las guarda en una lista\n",
    "    num_letras = list(map(len, div_palabra))  # Calcula la longitud de cada palabra y lo guarda en una lista de números\n",
    "    return num_letras  # Devuelve la lista con el número de letras por palabra\n",
    "\n",
    "print(contar_letras_palabras(frase_ejemplo))  # Llama a la función y muestra la lista con las cantidades de letras\n",
    "\n",
    "\n"
   ]
  },
  {
   "cell_type": "markdown",
   "id": "fcd8ed75",
   "metadata": {},
   "source": [
    "\n",
    "13. Genera una función la cual, para un conjunto de caracteres, devuelva una lista de tuplas con cada letra en\n",
    "mayúsculas y minúsculas. Las letras no pueden estar repetidas .Usa la función map()\n"
   ]
  },
  {
   "cell_type": "code",
   "execution_count": null,
   "id": "b52538f2",
   "metadata": {},
   "outputs": [
    {
     "name": "stdout",
     "output_type": "stream",
     "text": [
      "[('P', 'p'), ('J', 'j'), ('O', 'o'), ('R', 'r'), ('D', 'd'), ('A', 'a'), ('E', 'e'), ('M', 'm'), ('L', 'l'), ('S', 's'), ('F', 'f')]\n"
     ]
    }
   ],
   "source": [
    "def return_mayus_minus(caracteres):\n",
    "    letras_unicas = set(filter(str.isalpha,caracteres)) # uso de set para eliminar duplicados y filter con str.isalpja para filtrar solo lettras\n",
    "    resultado13 = list(map(lambda x: (x.upper(), x.lower()), letras_unicas)) # crea una lista de tuplas con funcion map para devolver el resultado por cada caracter \n",
    "    return resultado13\n",
    "\n",
    "conjunto_caracter = \"frase de ejemplo\"\n",
    "print(return_mayus_minus(conjunto_caracter))\n"
   ]
  },
  {
   "cell_type": "markdown",
   "id": "cb226a3a",
   "metadata": {},
   "source": [
    "\n",
    "14. Crea una función que retorne las palabras de una lista de palabras que comience con una letra en especifico. Usa la\n",
    "función filter()\n"
   ]
  },
  {
   "cell_type": "code",
   "execution_count": null,
   "id": "7f3ceae6",
   "metadata": {},
   "outputs": [
    {
     "data": {
      "text/plain": [
       "['taladro', 'tornillo', 'tijera']"
      ]
     },
     "execution_count": 49,
     "metadata": {},
     "output_type": "execute_result"
    }
   ],
   "source": [
    "lista14 = [\"martillo\", \"clavo\", \"taladro\", \"destornillador\", \"sierra\", \"tornillo\", \"tijera\"]  \n",
    "\n",
    "def filtra_palabra_primera_letra(palabra, letra):  # Define una función auxiliar que recibe una palabra y una letra\n",
    "    return palabra.startswith(letra)  # Devuelve True si la palabra comienza con la letra proporcionada\n",
    "\n",
    "def palabra_letra(lista_palabra, letra):  # Define la función principal que filtra palabras según su letra inicial\n",
    "    def filtra(palabra):  # Declara una función interna para aplicar el filtro\n",
    "        return filtra_palabra_primera_letra(palabra, letra)  # Devuelve el resultado de la función auxiliar para cada palabra\n",
    "    return list(filter(filtra, lista_palabra))  # Aplica el filtro a la lista y convierte el resultado en una lista\n",
    "\n",
    "palabra_letra(lista14, \"t\")  # Llama a la función pasando la lista original y la letra \"t\" como criterio\n"
   ]
  },
  {
   "cell_type": "markdown",
   "id": "240e4c0e",
   "metadata": {},
   "source": [
    "\n",
    "15. Crea una función lambda que sume 3 a cada número de una lista dada.\n"
   ]
  },
  {
   "cell_type": "code",
   "execution_count": null,
   "id": "c060a47e",
   "metadata": {},
   "outputs": [
    {
     "name": "stdout",
     "output_type": "stream",
     "text": [
      "[11, 7, 10, 6, 4, 12, 7, 8, 10, 4, 12, 5, 10, 6, 7, 8]\n"
     ]
    }
   ],
   "source": [
    "lista15 = [8, 4, 7, 3, 1, 9, 4, 5, 7, 1, 9, 2, 7, 3, 4, 5] \n",
    "mas_tres = list(map(lambda x: x + 3, lista15))  # Suma 3 a cada elemento de la lista usando la función map y una lambda\n",
    "print(mas_tres)  # Muestra por pantalla la nueva lista con los valores incrementados\n"
   ]
  },
  {
   "cell_type": "markdown",
   "id": "5715e29f",
   "metadata": {},
   "source": [
    "\n",
    "16. Escribe una función que tome una cadena de texto y un número entero n como parámetros y devuelva una lista de\n",
    "todas las palabras que sean más largas que n. Usa la función filter()\n"
   ]
  },
  {
   "cell_type": "code",
   "execution_count": null,
   "id": "67a757cd",
   "metadata": {},
   "outputs": [
    {
     "name": "stdout",
     "output_type": "stream",
     "text": [
      "['diccionario', 'cuaderno', 'libreta', 'registro']\n"
     ]
    }
   ],
   "source": [
    "from functools import reduce  # Importa la función reduce del módulo functools (aunque en este código no se utiliza)\n",
    "lista16 = [\"libre\", \"diccionario\", \"cuaderno\", \"manual\", \"libreta\", \"registro\", \"nota\"]  \n",
    "lista16_reducida = list(filter(lambda x: len(x) > 6, lista16))  # Filtra las palabras cuya longitud es mayor a 6 caracteres y crea una nueva lista\n",
    "print(lista16_reducida)  # Muestra por pantalla la nueva lista después del filtrado\n"
   ]
  },
  {
   "cell_type": "markdown",
   "id": "63caf6a1",
   "metadata": {},
   "source": [
    "\n",
    "17. Crea una función que tome una lista de dígitos y devuelva el número correspondiente. Por ejemplo, [5,7,2]\n",
    "corresponde al número quinientos setenta y dos (572). Usa la función reduce()\n"
   ]
  },
  {
   "cell_type": "code",
   "execution_count": 32,
   "id": "8927eaf0",
   "metadata": {},
   "outputs": [
    {
     "name": "stdout",
     "output_type": "stream",
     "text": [
      "572\n"
     ]
    }
   ],
   "source": [
    "\n",
    "from functools import reduce  # Importa la función reduce del módulo functools si no esta importada del codigo anterior ya(16)\n",
    "def lista_a_numero(lista_digitos):  # Define una función que toma como parámetro una lista de dígitos\n",
    "    return reduce(lambda x, y: x * 10 + y, lista_digitos)  # Combina los dígitos multiplicando por 10 y sumando el siguiente\n",
    "    \n",
    "\n",
    "print(lista_a_numero([5, 7, 2]))  # Llama a la función con la lista [5, 7, 2] y muestra el resultado (572) = 5x10\n",
    "# la logica es (((5*10) + 7) *10) + 2\n"
   ]
  },
  {
   "cell_type": "markdown",
   "id": "b923d171",
   "metadata": {},
   "source": [
    "\n",
    "18. Escribe un programa en Python que cree una lista de diccionarios que contenga información de estudiantes\n",
    "(nombre, edad, calificación) y use la función filter para extraer a los estudiantes con una calificación mayor o igual a 90. \n",
    "Usa la función filter()"
   ]
  },
  {
   "cell_type": "code",
   "execution_count": 37,
   "id": "02638ac2",
   "metadata": {},
   "outputs": [
    {
     "name": "stdout",
     "output_type": "stream",
     "text": [
      "Aqui esta la lista de los estudiantes con calificacion mayor o igual a 90 : [{'nombre': 'Luis', 'edad': 22, 'calificación': 90}, {'nombre': 'Elena', 'edad': 20, 'calificación': 93}]\n"
     ]
    }
   ],
   "source": [
    "estudiantes = [  \n",
    "    {\"nombre\": \"Ana\", \"edad\": 20, \"calificación\": 85},\n",
    "    {\"nombre\": \"Luis\", \"edad\": 22, \"calificación\": 90},\n",
    "    {\"nombre\": \"María\", \"edad\": 19, \"calificación\": 78},\n",
    "    {\"nombre\": \"Carlos\", \"edad\": 21, \"calificación\": 69},\n",
    "    {\"nombre\": \"Elena\", \"edad\": 20, \"calificación\": 93}\n",
    "]\n",
    "\n",
    "def filtra_calif90(estudiante):  \n",
    "    return estudiante[\"calificación\"] >= 90  # Devuelve True si la condición se cumple, lo que permite que el estudiante sea filtrado\n",
    "\n",
    "calif_mayor_90 = list(filter(filtra_calif90, estudiantes))  # Aplica la función de filtrado a la lista de estudiantes y convierte el resultado en una nueva lista\n",
    "\n",
    "print(f\"Aqui esta la lista de los estudiantes con calificacion mayor o igual a 90 : {calif_mayor_90}\")  # Muestra por pantalla los estudiantes que cumplen con la condición\n"
   ]
  },
  {
   "cell_type": "markdown",
   "id": "ea199b89",
   "metadata": {},
   "source": [
    "\n",
    "19. Crea una función lambda que filtre los números impares de una lista dada.\n"
   ]
  },
  {
   "cell_type": "code",
   "execution_count": null,
   "id": "0ae0a53b",
   "metadata": {},
   "outputs": [
    {
     "name": "stdout",
     "output_type": "stream",
     "text": [
      "[51, 95, 11, 21, 53, 65]\n"
     ]
    }
   ],
   "source": [
    "lista19 = [14, 48, 51, 36, 95, 11, 21, 74, 53, 65, 20, 16]  \n",
    "lista19impar = list(filter(lambda x: x % 2 != 0, lista19))  # Filtra los elementos impares de la lista usando una función lambda con la condicion que el residuo de una division no sea = 0\n",
    "print(lista19impar)  # Muestra por pantalla la lista resultante con los números impares\n"
   ]
  },
  {
   "cell_type": "markdown",
   "id": "bf568359",
   "metadata": {},
   "source": [
    "\n",
    "20. Para una lista con elementos tipo integer y string obtén una nueva lista sólo con los valores int. Usa la función\n",
    "filter()\n"
   ]
  },
  {
   "cell_type": "code",
   "execution_count": null,
   "id": "58f2ceb7",
   "metadata": {},
   "outputs": [
    {
     "name": "stdout",
     "output_type": "stream",
     "text": [
      "[1, 2, 3, 4, 5, 6]\n"
     ]
    }
   ],
   "source": [
    "lista20 = [\"uno\",\"dos\",\"tres\",\"cuatro\",\"cinco\",1,2,3,4,5,6]\n",
    "lista20int = list(filter(lambda x: type(x) is int, lista20)) #filtra solo los elementos de tipo numero enteros\n",
    "print(lista20int)"
   ]
  },
  {
   "cell_type": "markdown",
   "id": "6e186f30",
   "metadata": {},
   "source": [
    "\n",
    "21. Crea una función que calcule el cubo de un número dado mediante una función lambda\n"
   ]
  },
  {
   "cell_type": "code",
   "execution_count": null,
   "id": "45d8ff3d",
   "metadata": {},
   "outputs": [
    {
     "name": "stdout",
     "output_type": "stream",
     "text": [
      "el cubo de 2 es 8\n"
     ]
    }
   ],
   "source": [
    "num_aleatorio = int(input(\"introduce un numero\")) # pide al usuario un numero entero\n",
    "num_cubico = lambda x: x ** 3 # funcion lambda que calcula el cubico del valor entrado por el usuario\n",
    "print(f\"El cubo de {num_aleatorio} es {(num_cubico(num_aleatorio))}\")"
   ]
  },
  {
   "cell_type": "markdown",
   "id": "104d4129",
   "metadata": {},
   "source": [
    "\n",
    "22. Dada una lista numérica, obtén el producto total de los valores de dicha lista.Usa la función reduce() .\n"
   ]
  },
  {
   "cell_type": "code",
   "execution_count": null,
   "id": "2856b263",
   "metadata": {},
   "outputs": [
    {
     "name": "stdout",
     "output_type": "stream",
     "text": [
      "1050\n"
     ]
    }
   ],
   "source": [
    "from functools import reduce #importar funcion si no esta hecho ya del ejercicio 16 y 17\n",
    "\n",
    "lista22 = [5,3,5,7,2]\n",
    "def producto(x,y): # define la funcion para multiplicar entre 2 numero\n",
    "    return x * y #devuelve el resultado\n",
    "\n",
    "valores_multiplicado = reduce(producto,lista22) # Aplica la función 'producto' de forma acumulativa a los elementos de la lista\n",
    "\n",
    "print(valores_multiplicado)\n"
   ]
  },
  {
   "cell_type": "markdown",
   "id": "2d83df51",
   "metadata": {},
   "source": [
    "\n",
    "23. Concatena una lista de palabras.Usa la función reduce() .\n"
   ]
  },
  {
   "cell_type": "code",
   "execution_count": null,
   "id": "1e6c0ae4",
   "metadata": {},
   "outputs": [
    {
     "name": "stdout",
     "output_type": "stream",
     "text": [
      "montañasollibrocaféaventura\n"
     ]
    }
   ],
   "source": [
    "lista23 = [\"montaña\", \"sol\", \"libro\", \"café\", \"aventura\"]\n",
    "def concatenar_lista(X,Y):\n",
    "    return X+Y          #concatena texto ya que no se puede sumar strings\n",
    "lista_concatenada = reduce(concatenar_lista,lista23)  # Aplica la función de concatenación de manera acumulativa a toda la lista  \n",
    "print(lista_concatenada)\n",
    "\n"
   ]
  },
  {
   "cell_type": "markdown",
   "id": "f4b6e67b",
   "metadata": {},
   "source": [
    "24. Calcula la diferencia total en los valores de una lista. Usa la función reduce() .\n"
   ]
  },
  {
   "cell_type": "code",
   "execution_count": null,
   "id": "23b58a40",
   "metadata": {},
   "outputs": [
    {
     "name": "stdout",
     "output_type": "stream",
     "text": [
      "-131\n"
     ]
    }
   ],
   "source": [
    "lista24 = [26, 45, 20, 82, 10]  # Declara una lista de números enteros\n",
    "\n",
    "def restar(x, y):  # Define una función que toma dos valores\n",
    "    return x - y  # Resta el segundo valor al primero\n",
    "lista_diferencia = reduce(restar, lista24)  # Aplica la resta de forma acumulativa a todos los elementos de la lista\n",
    "print(lista_diferencia)  \n"
   ]
  },
  {
   "cell_type": "markdown",
   "id": "28fea66e",
   "metadata": {},
   "source": [
    "\n",
    "25. Crea una función que cuente el número de caracteres en una cadena de texto dada.\n"
   ]
  },
  {
   "cell_type": "code",
   "execution_count": null,
   "id": "596a6d6d",
   "metadata": {},
   "outputs": [
    {
     "data": {
      "text/plain": [
       "11"
      ]
     },
     "execution_count": 40,
     "metadata": {},
     "output_type": "execute_result"
    }
   ],
   "source": [
    "def cuenta_caract(x):\n",
    "    return len(x)       #devuelve la longitud del valor\n",
    "    print(cuenta_caract()) # muestra el resultado\n",
    "cuenta_caract(str(input(\"Entra una palabra\"))) # la funcion se aplica a una entrada tipo cadena de parte del usuario\n"
   ]
  },
  {
   "cell_type": "markdown",
   "id": "c747c52b",
   "metadata": {},
   "source": [
    "\n",
    "26. Crea una función lambda que calcule el resto de la división entre dos números dados.\n"
   ]
  },
  {
   "cell_type": "code",
   "execution_count": null,
   "id": "30173045",
   "metadata": {},
   "outputs": [
    {
     "name": "stdout",
     "output_type": "stream",
     "text": [
      "4\n"
     ]
    }
   ],
   "source": [
    "\n",
    "resultado26 = lambda x, y: x % y  # Declara una función lambda que devuelve el residuo de dividir x entre y\n",
    "print(resultado26(25, 7))  # Llama a la función con los valores 25 y 7, y muestra el resultado por pantalla\n"
   ]
  },
  {
   "cell_type": "markdown",
   "id": "c5a6c84b",
   "metadata": {},
   "source": [
    "\n",
    "27. Crea una función que calcule el promedio de una lista de números.\n"
   ]
  },
  {
   "cell_type": "code",
   "execution_count": null,
   "id": "fa045335",
   "metadata": {},
   "outputs": [
    {
     "name": "stdout",
     "output_type": "stream",
     "text": [
      "promedio =  49.17\n"
     ]
    }
   ],
   "source": [
    "def calcular_promedio(lista_numeros):  \n",
    "    return sum(lista_numeros) / len(lista_numeros)  # Devuelve la suma de los números dividida por la cantidad de elementos\n",
    "numeros = [15, 26.5, 75.6, 27.8, 45.2, 96, 58.1]  # Declara una lista con valores numéricos, incluyendo enteros y decimales\n",
    "print(\"promedio = \", round(calcular_promedio(numeros), 2))  # Llama a la función, redondea el resultado a 2 decimales y lo muestra por pantalla\n"
   ]
  },
  {
   "cell_type": "markdown",
   "id": "91291222",
   "metadata": {},
   "source": [
    "\n",
    "28. Crea una función que busque y devuelva el primer elemento duplicado en una lista dada.\n"
   ]
  },
  {
   "cell_type": "code",
   "execution_count": null,
   "id": "5b18a133",
   "metadata": {},
   "outputs": [
    {
     "data": {
      "text/plain": [
       "'manzana'"
      ]
     },
     "execution_count": 44,
     "metadata": {},
     "output_type": "execute_result"
    }
   ],
   "source": [
    "list28 = [\"kiwi\",\"manzana\", \"pera\", \"manzana\", \"uva\", \"pera\", \"plátano\", \"manzana\", \"pera\", \"uva\"]  # Declara una lista con varias palabras, algunas repetidas\n",
    "\n",
    "def primer_dupli(x):  \n",
    "    comprobados = set()\n",
    "    for palabra in x:  # Recorre cada palabra en la lista\n",
    "        if palabra in comprobados:  # Comprueba si la palabra está en la lista\n",
    "            return palabra  # Devuelve la primera palabra encontrada\n",
    "        else:\n",
    "            comprobados.add(palabra)  # añade la palabra al set si no estaba antes\n",
    "    \n",
    "primer_dupli(list28)"
   ]
  },
  {
   "cell_type": "markdown",
   "id": "d69b2fa2",
   "metadata": {},
   "source": [
    "\n",
    "29. Crea una función que convierta una variable en una cadena de texto y enmascare todos los caracteres con el\n",
    "carácter '#', excepto los últimos cuatro.\n"
   ]
  },
  {
   "cell_type": "code",
   "execution_count": null,
   "id": "49bbbb59",
   "metadata": {},
   "outputs": [
    {
     "name": "stdout",
     "output_type": "stream",
     "text": [
      "#####6789\n",
      "######seña\n"
     ]
    }
   ],
   "source": [
    "def enmascarar_variable(cad_str):\n",
    "    texto = str(cad_str)        #convierte la variable en cadena string\n",
    "    longitud = len(texto)       #calcula la longitud del string\n",
    "    if longitud <= 4:           #condicion con longitud de la variable, si la variable es inferior a 4 caracteres no se enmascara nada\n",
    "        return texto\n",
    "    return '#' * (longitud - 4) + texto[-4:] #enmascara todos los caracteres hasta las 4 ultimas letras y añade estas 4 leras por separado\n",
    "\n",
    "print(enmascarar_variable(123456789))     \n",
    "print(enmascarar_variable(\"contraseña\"))   \n"
   ]
  },
  {
   "cell_type": "markdown",
   "id": "8d7b2ec5",
   "metadata": {},
   "source": [
    "\n",
    "30. Crea una función que determine si dos palabras son anagramas, es decir, si están formadas por las mismas letras\n",
    "pero en diferente orden.\n"
   ]
  },
  {
   "cell_type": "code",
   "execution_count": null,
   "id": "ee667630",
   "metadata": {},
   "outputs": [
    {
     "name": "stdout",
     "output_type": "stream",
     "text": [
      "la palabra jarabe es anagrama de la palabra rebaja\n",
      "la palabra tomate no es un anagrama de la palabra ketchup\n"
     ]
    }
   ],
   "source": [
    "def son_anagramas(palabra1, palabra2):  \n",
    "    if sorted(palabra1) == sorted(palabra2):  # Compara las letras ordenadas de ambas palabras\n",
    "        print(f\"la palabra {palabra1} es anagrama de la palabra {palabra2}\")  # Informa si son anagramas\n",
    "    else:\n",
    "        print(f\"la palabra {palabra1} no es un anagrama de la palabra {palabra2}\")  # Informa si no son anagramas\n",
    "\n",
    "son_anagramas(\"jarabe\", \"rebaja\")  # ejemplo de anagramas\n",
    "son_anagramas(\"tomate\", \"ketchup\")  # ejemplo cuando no es un anagrama\n",
    "\n"
   ]
  },
  {
   "cell_type": "markdown",
   "id": "e8261262",
   "metadata": {},
   "source": [
    "\n",
    "31. Crea una función que solicite al usuario ingresar una lista de nombres y luego solicite un nombre para buscar en\n",
    "esa lista. Si el nombre está en la lista, se imprime un mensaje indicando que fue encontrado, de lo contrario, se\n",
    "lanza una excepción.\n"
   ]
  },
  {
   "cell_type": "code",
   "execution_count": null,
   "id": "c4dcb745",
   "metadata": {},
   "outputs": [
    {
     "name": "stdout",
     "output_type": "stream",
     "text": [
      "Lista procesada: ['Maria', 'Berta', 'Maurice', 'Nadia', 'Zouer']\n",
      "Nombre introducido: Maurice\n",
      "El nombre 'Maurice' fue encontrado en la lista\n"
     ]
    }
   ],
   "source": [
    "\n",
    "def comprobar_nombre():  \n",
    "    input_lista = input(\"Introduce una lista de nombres separados por comas: \")  # Solicita nombres separados por comas\n",
    "    lista_usuario = [nombre.strip().capitalize() for nombre in input_lista.split(\",\")]  # Elimina espacios y capitaliza cada nombre\n",
    "    input_nombre = input(\"Introduce un nombre: \").strip().capitalize()  # Pide un nombre, elimina espacios y aplica mayucula a la primera letra\n",
    "\n",
    "    print(f\"Lista introducida: {lista_usuario}\")  # Muestra la lista estandarizada con 1era lerta en mayuscula\n",
    "    print(f\"Nombre introducido: {input_nombre}\")  # Muestra el nombre estandarizado ingresado\n",
    "\n",
    "    if input_nombre in lista_usuario:  # Comprueba si el nombre está en la lista\n",
    "        print(f\"El nombre '{input_nombre}' fue encontrado en la lista\")  # Mensaje si se encuentra\n",
    "    else:\n",
    "        print(\"El nombre introducido no fue encontrado en la lista\")  # Mensaje si no está\n",
    "\n",
    "comprobar_nombre() \n"
   ]
  },
  {
   "cell_type": "markdown",
   "id": "e05cf114",
   "metadata": {},
   "source": [
    "\n",
    "32. Crea una función que tome un nombre completo y una lista de empleados, busque el nombre completo en la lista y\n",
    "devuelve el puesto del empleado si está en la lista, de lo contrario, devuelve un mensaje indicando que la persona\n",
    "no trabaja aquí.\n"
   ]
  },
  {
   "cell_type": "code",
   "execution_count": 49,
   "id": "47c181c0",
   "metadata": {},
   "outputs": [
    {
     "name": "stdout",
     "output_type": "stream",
     "text": [
      "Esta persona ocupa el puesto de Machine Learning Engineer\n"
     ]
    }
   ],
   "source": [
    "def buscador_puesto(nombre_empleado, lista_empleados):\n",
    "        for empleado in lista_empleados:  # Recorre cada diccionario de empleado en la lista\n",
    "            if empleado[\"nombre\"] == nombre_empleado:  # Comprueba si el nombre coincide con el nombre ingresado\n",
    "                return(print(f\"Esta persona ocupa el puesto de {empleado['puesto']}\"))  # Muestra el puesto del empleado si hay coincidencia\n",
    "        print(\"Este persona no trabaja en la empresa\")  # Muestra mensaje si no se encuentra el nombre en la lista\n",
    "\n",
    "lista_empleados = [\n",
    "    {\"nombre\": \"John Smith\", \"puesto\": \"Data Scientist\"},  # Diccionario con nombre y puesto\n",
    "    {\"nombre\": \"Maria Gonzalez\", \"puesto\": \"Data Analyst\"},\n",
    "    {\"nombre\": \"Ahmed Hassan\", \"puesto\": \"Business Intelligence Developer\"},\n",
    "    {\"nombre\": \"Ling Wei\", \"puesto\": \"Machine Learning Engineer\"},\n",
    "    {\"nombre\": \"Olga Ivanov\", \"puesto\": \"Data Engineer\"}\n",
    "    ]\n",
    "\n",
    "nombre_empleado = input(\"Entra el nombre completo del empleado: \").strip().title()  # quita espacio y estandariza el nombre introducido con mayusculas a las primeras letras\n",
    "\n",
    "buscador_puesto(nombre_empleado, lista_empleados)\n",
    "   "
   ]
  },
  {
   "cell_type": "markdown",
   "id": "185be67f",
   "metadata": {},
   "source": [
    "\n",
    "33. Crea una función lambda que sume elementos correspondientes de dos listas dadas.\n"
   ]
  },
  {
   "cell_type": "code",
   "execution_count": null,
   "id": "fc0f9526",
   "metadata": {},
   "outputs": [
    {
     "name": "stdout",
     "output_type": "stream",
     "text": [
      "[6, 12, 6, 17, 14, 9, 17, 15, 13, 14]\n"
     ]
    }
   ],
   "source": [
    "nota_control_continuo = [4,6,2,8,7,4,9,7,6,7]\n",
    "nota_examen = [2,6,4,9,7,5,8,8,7,7]\n",
    "suma_listas = lambda nota1, nota2: list(map(lambda x,y: x + y , nota1, nota2)) # Función lambda para sumar elementos correspondientes\n",
    "nota_final = suma_listas(nota_control_continuo, nota_examen) # crea una lista con el resultado del a suma\n",
    "print(nota_final)"
   ]
  },
  {
   "cell_type": "markdown",
   "id": "26388ba3",
   "metadata": {},
   "source": [
    "\n",
    "34. Crea la clase Arbol , define un árbol genérico con un tronco y ramas como atributos. Los métodos disponibles son:\n",
    "crecer_tronco , nueva_rama , crecer_ramas , quitar_rama e info_arbol . El objetivo es implementar estos métodos para\n",
    "manipular la estructura del árbol.  \n",
    "Código a seguir:\n",
    "    1. Inicializar un árbol con un tronco de longitud 1 y una lista vacía de ramas.\n",
    "    2. Implementar el método crecer_tronco para aumentar la longitud del tronco en una unidad.\n",
    "    3. Implementar el método nueva_rama para agregar una nueva rama de longitud 1 a la lista de ramas.\n",
    "    4. Implementar el método crecer_ramas para aumentar en una unidad la longitud de todas las ramas existentes.\n",
    "    5. Implementar el método quitar_rama para eliminar una rama en una posición específica.\n",
    "    6. Implementar el método\n",
    "    info_arbol para devolver información sobre la longitud del tronco, el número de ramas y las longitudes de las\n",
    "mismas.  \n",
    "35. Caso de uso:\n",
    "    1. Crear un árbol.\n",
    "    2. Hacer crecer el tronco del árbol una unidad. \n",
    "    3. Añadir una nueva rama al árbol.\n",
    "    4. Hacer crecer todas las ramas del árbol una unidad.\n",
    "    5. Añadir dos nuevas ramas al árbol.\n",
    "    6. Retirar la rama situada en la posición 2.\n",
    "    7. Obtener información sobre el árbol.\n"
   ]
  },
  {
   "cell_type": "code",
   "execution_count": null,
   "id": "2cbdacd8",
   "metadata": {},
   "outputs": [
    {
     "name": "stdout",
     "output_type": "stream",
     "text": [
      "Longitud tronco: 2, Numero de ramas: 2, Longitud de ramas: [2, 1]\n",
      "None\n"
     ]
    }
   ],
   "source": [
    "class Arbol: # 34 - crea la classe\n",
    "    def __init__(self): #tronco inicial de longitud 1 sin ramas\n",
    "        self.tronco = 1\n",
    "        self.ramas =[]\n",
    "\n",
    "    def crecer_tronco(self): #añade 1 de longitud al tronco\n",
    "        self.tronco += 1\n",
    "    \n",
    "    def nueva_rama(self, longitud): #añadimos rama al tronco\n",
    "        self.ramas.append(longitud)\n",
    "    \n",
    "    def crecer_ramas(self, incremento): #añadimos longitud a las ramas\n",
    "        self.ramas = [ rama + incremento for rama in self.ramas]\n",
    "\n",
    "    def quitar_rama(self,indice): #quita rama segun la posicion indicada\n",
    "        if 0 <= indice < len(self.ramas): #condicion para posicion sea correcta\n",
    "            self.ramas.pop(indice)\n",
    "        else:\n",
    "            print(\"No hay rama en esa posicion\")\n",
    "    \n",
    "    def info_arbol(self):\n",
    "        print(f\"Longitud tronco: {self.tronco}, Numero de ramas: {len(self.ramas)}, Longitud de ramas: {self.ramas}\")\n",
    "                      \n",
    "# 35 - ejecuta las indicaciones del caso de uso\n",
    "mi_arbol = Arbol() \n",
    "mi_arbol.crecer_tronco()\n",
    "mi_arbol.nueva_rama(1)\n",
    "mi_arbol.crecer_ramas(1)\n",
    "mi_arbol.nueva_rama(1)\n",
    "mi_arbol.nueva_rama(1)\n",
    "mi_arbol.quitar_rama(2)\n",
    "print(mi_arbol.info_arbol())\n",
    "\n",
    "\n",
    "        "
   ]
  },
  {
   "cell_type": "markdown",
   "id": "80e8c844",
   "metadata": {},
   "source": [
    "\n",
    "36. Crea la clase UsuarioBanco ,representa a un usuario de un banco con su nombre, saldo y si tiene o no cuenta\n",
    "corriente. Proporciona métodos para realizar operaciones como retirar dinero, transferir dinero desde otro usuario y\n",
    "agregar dinero al saldo.\n",
    "Código a seguir:  \n",
    "    1. Inicializar un usuario con su nombre, saldo y si tiene o no cuenta corriente mediante True y False .\n",
    "    2. Implementar el método retirar_dinero para retirar dinero del saldo del usuario. Lanzará un error en caso de no\n",
    "poder hacerse.\n",
    "    3. Implementar el método transferir_dinero para realizar una transferencia desde otro usuario al usuario actual.\n",
    "Lanzará un error en caso de no poder hacerse.\n",
    "    4. Implementar el método agregar_dinero para agregar dinero al saldo del usuario.\n"
   ]
  },
  {
   "cell_type": "markdown",
   "id": "f676dfe2",
   "metadata": {},
   "source": [
    "Caso de uso:  \n",
    "    1. Crear dos usuarios: \"Alicia\" con saldo inicial de 100 y \"Bob\" con saldo inicial de 50, ambos con cuenta corriente.  \n",
    "    2. Agregar 20 unidades de saldo de \"Bob\".  \n",
    "    3. Hacer una transferencia de 80 unidades desde \"Bob\" a \"Alicia\".  \n",
    "    4. Retirar 50 unidades de saldo a \"Alicia\".\n"
   ]
  },
  {
   "cell_type": "code",
   "execution_count": null,
   "id": "add8101e",
   "metadata": {},
   "outputs": [
    {
     "name": "stdout",
     "output_type": "stream",
     "text": [
      "Saldo inicial de Alicia: 100€\n",
      "Saldo inicial de Bob: 50€\n",
      "\n",
      "Bob recibió 20€. Saldo actual: 70€\n"
     ]
    },
    {
     "ename": "ValueError",
     "evalue": "Bob no tiene suficiente saldo para transferir 80€.",
     "output_type": "error",
     "traceback": [
      "\u001b[31m---------------------------------------------------------------------------\u001b[39m",
      "\u001b[31mValueError\u001b[39m                                Traceback (most recent call last)",
      "\u001b[36mCell\u001b[39m\u001b[36m \u001b[39m\u001b[32mIn[64]\u001b[39m\u001b[32m, line 39\u001b[39m\n\u001b[32m     36\u001b[39m \u001b[38;5;28mprint\u001b[39m(\u001b[33mf\u001b[39m\u001b[33m\"\u001b[39m\u001b[33mSaldo inicial de \u001b[39m\u001b[38;5;132;01m{\u001b[39;00mbob.nombre\u001b[38;5;132;01m}\u001b[39;00m\u001b[33m: \u001b[39m\u001b[38;5;132;01m{\u001b[39;00mbob.saldo\u001b[38;5;132;01m}\u001b[39;00m\u001b[33m€\u001b[39m\u001b[38;5;130;01m\\n\u001b[39;00m\u001b[33m\"\u001b[39m)\n\u001b[32m     38\u001b[39m bob.agregar_dinero(\u001b[32m20\u001b[39m) \u001b[38;5;66;03m# se agrega 20 unidades al saldo de Bob\u001b[39;00m\n\u001b[32m---> \u001b[39m\u001b[32m39\u001b[39m \u001b[43malicia\u001b[49m\u001b[43m.\u001b[49m\u001b[43mtransferir_dinero\u001b[49m\u001b[43m(\u001b[49m\u001b[43mbob\u001b[49m\u001b[43m,\u001b[49m\u001b[43m \u001b[49m\u001b[32;43m80\u001b[39;49m\u001b[43m)\u001b[49m \u001b[38;5;66;03m# se transfiere 80 unidades desde bob hacia Alicia\u001b[39;00m\n\u001b[32m     40\u001b[39m alicia.retirar_dinero(\u001b[32m50\u001b[39m) \u001b[38;5;66;03m# se quitan 50 unidades del saldo de Alicia\u001b[39;00m\n\u001b[32m     42\u001b[39m \u001b[38;5;28mprint\u001b[39m(\u001b[33mf\u001b[39m\u001b[33m\"\u001b[39m\u001b[38;5;130;01m\\n\u001b[39;00m\u001b[33mSaldo final de \u001b[39m\u001b[38;5;132;01m{\u001b[39;00malicia.nombre\u001b[38;5;132;01m}\u001b[39;00m\u001b[33m: \u001b[39m\u001b[38;5;132;01m{\u001b[39;00malicia.saldo\u001b[38;5;132;01m}\u001b[39;00m\u001b[33m€\u001b[39m\u001b[33m\"\u001b[39m) \u001b[38;5;66;03m# Imprimir el saldo final de cada usuario\u001b[39;00m\n",
      "\u001b[36mCell\u001b[39m\u001b[36m \u001b[39m\u001b[32mIn[64]\u001b[39m\u001b[32m, line 23\u001b[39m, in \u001b[36mUsuarioBanco.transferir_dinero\u001b[39m\u001b[34m(self, otro_usuario, cantidad)\u001b[39m\n\u001b[32m     21\u001b[39m     \u001b[38;5;28mprint\u001b[39m(\u001b[33mf\u001b[39m\u001b[33m\"\u001b[39m\u001b[33mSaldo de \u001b[39m\u001b[38;5;132;01m{\u001b[39;00m\u001b[38;5;28mself\u001b[39m.nombre\u001b[38;5;132;01m}\u001b[39;00m\u001b[33m: \u001b[39m\u001b[38;5;132;01m{\u001b[39;00m\u001b[38;5;28mself\u001b[39m.saldo\u001b[38;5;132;01m}\u001b[39;00m\u001b[33m€, saldo de \u001b[39m\u001b[38;5;132;01m{\u001b[39;00motro_usuario.nombre\u001b[38;5;132;01m}\u001b[39;00m\u001b[33m: \u001b[39m\u001b[38;5;132;01m{\u001b[39;00motro_usuario.saldo\u001b[38;5;132;01m}\u001b[39;00m\u001b[33m€\u001b[39m\u001b[33m\"\u001b[39m) \u001b[38;5;66;03m# muestras los saldos respectivos\u001b[39;00m\n\u001b[32m     22\u001b[39m \u001b[38;5;28;01melse\u001b[39;00m:\n\u001b[32m---> \u001b[39m\u001b[32m23\u001b[39m     \u001b[38;5;28;01mraise\u001b[39;00m \u001b[38;5;167;01mValueError\u001b[39;00m(\u001b[33mf\u001b[39m\u001b[33m\"\u001b[39m\u001b[38;5;132;01m{\u001b[39;00motro_usuario.nombre\u001b[38;5;132;01m}\u001b[39;00m\u001b[33m no tiene suficiente saldo para transferir \u001b[39m\u001b[38;5;132;01m{\u001b[39;00mcantidad\u001b[38;5;132;01m}\u001b[39;00m\u001b[33m€.\u001b[39m\u001b[33m\"\u001b[39m)\n",
      "\u001b[31mValueError\u001b[39m: Bob no tiene suficiente saldo para transferir 80€."
     ]
    }
   ],
   "source": [
    "class UsuarioBanco:\n",
    "    def __init__(self, nombre, saldo, cuenta_corriente):\n",
    "        self.nombre = nombre\n",
    "        self.saldo = saldo\n",
    "        self.cuenta_corriente = cuenta_corriente\n",
    "\n",
    "    # Método para retirar dinero del saldo del usuario\n",
    "    def retirar_dinero(self, cantidad):\n",
    "        if cantidad <= self.saldo: # si hay suficioente saldo se ejecuta la linea siguiente\n",
    "            self.saldo -= cantidad # resta la cantidad al saldo\n",
    "            print(f\"{self.nombre} retiró {cantidad}€. Saldo restante: {self.saldo}€\")\n",
    "        else: #si no hay suficiente saldo se devuelve un mensaje de error\n",
    "            raise ValueError(f\"{self.nombre} no tiene suficiente saldo para retirar {cantidad}€.\")\n",
    "\n",
    "    # Método para transferir dinero DESDE otro usuario HACIA este usuario\n",
    "    def transferir_dinero(self, otro_usuario, cantidad):\n",
    "        if cantidad <= otro_usuario.saldo: # si hay suficioente saldo en la cuenta del otro usuario, se ejecuta las lineas siguientes\n",
    "            otro_usuario.saldo -= cantidad # se resta la cantidad al saldo del otr usuario\n",
    "            self.saldo += cantidad # se añade la cantidad a la cuenta del usuario\n",
    "            print(f\"{otro_usuario.nombre} transfirió {cantidad}€ a {self.nombre}.\") # resume la opreacion\n",
    "            print(f\"Saldo de {self.nombre}: {self.saldo}€, saldo de {otro_usuario.nombre}: {otro_usuario.saldo}€\") # muestras los saldos respectivos\n",
    "        else:\n",
    "            raise ValueError(f\"{otro_usuario.nombre} no tiene suficiente saldo para transferir {cantidad}€.\") # informa que no hay suficiente saldo\n",
    "\n",
    "    # Método para agregar dinero al saldo del usuario\n",
    "    def agregar_dinero(self, cantidad):\n",
    "        self.saldo += cantidad # añade la cantidad al saldo\n",
    "        print(f\"{self.nombre} recibió {cantidad}€. Saldo actual: {self.saldo}€\")\n",
    "\n",
    "\n",
    "# caso de uso\n",
    "alicia = UsuarioBanco(\"Alicia\", 100, True) # se crea los 2 usuarios\n",
    "bob = UsuarioBanco(\"Bob\", 50, True)\n",
    "\n",
    "print(f\"Saldo inicial de {alicia.nombre}: {alicia.saldo}€\") # muestra saldo inicial de cada uno\n",
    "print(f\"Saldo inicial de {bob.nombre}: {bob.saldo}€\\n\")\n",
    "\n",
    "bob.agregar_dinero(20) # se agrega 20 unidades al saldo de Bob\n",
    "alicia.transferir_dinero(bob, 80) # se transfiere 80 unidades desde bob hacia Alicia\n",
    "alicia.retirar_dinero(50) # se quitan 50 unidades del saldo de Alicia\n",
    "\n",
    "print(f\"\\nSaldo final de {alicia.nombre}: {alicia.saldo}€\") # Imprimir el saldo final de cada usuario\n",
    "print(f\"Saldo final de {bob.nombre}: {bob.saldo}€\")\n",
    "\n",
    "\n"
   ]
  },
  {
   "cell_type": "markdown",
   "id": "0505f5be",
   "metadata": {},
   "source": [
    "37. Crea una función llamada procesar_texto que procesa un texto según la opción especificada: contar_palabras ,\n",
    "reemplazar_palabras , eliminar_palabra . Estas opciones son otras funciones que tenemos que definir primero y llamar dentro\n",
    "de la función procesar_texto .\n",
    "Código a seguir:\n",
    "    1. Crear una función contar_palabras para contar el número de veces que aparece cada palabra en el texto. Tiene\n",
    "que devolver un diccionario.\n",
    "    2. Crear una función reemplazar_palabras para remplazar una palabra_original del texto por una palabra_nueva . Tiene\n",
    "que devolver el texto con el remplazo de palabras.\n",
    "    3. Crear una función eliminar_palabra para eliminar una palabra del texto. Tiene que devolver el texto con la palabra\n",
    "eliminada.\n",
    "    4. Crear la función procesar_texto que tome un texto, una opción(entre \"contar\", \"reemplazar\", \"eliminar\") y un\n",
    "número de argumentos variable según la opción indicada.\n",
    "Caso de uso:\n",
    "Comprueba el funcionamiento completo de la función procesar_texto\n"
   ]
  },
  {
   "cell_type": "code",
   "execution_count": 28,
   "id": "7a2c3ee5",
   "metadata": {},
   "outputs": [
    {
     "name": "stdout",
     "output_type": "stream",
     "text": [
      "Juan tenía un raton. El raton dormía mucho. A veces Juan también dormía. Juan y el raton comían, dormían y jugaban. El raton maullaba. Juan reía. Día tras día, Juan y su raton vivían momentos tranquilos juntos.\n",
      "Juan tenía un gato. El gato dormía mucho. A veces Juan también dormía. Juan y el gato comían, dormían y jugaban. El gato maullaba. Juan reía. Día tras día, Juan y su gato vivían momentos  juntos.\n"
     ]
    },
    {
     "data": {
      "text/plain": [
       "{'juan': 5,\n",
       " 'tenía': 1,\n",
       " 'un': 1,\n",
       " 'gato': 5,\n",
       " 'el': 3,\n",
       " 'dormía': 2,\n",
       " 'mucho': 1,\n",
       " 'a': 1,\n",
       " 'veces': 1,\n",
       " 'también': 1,\n",
       " 'y': 3,\n",
       " 'comían': 1,\n",
       " 'dormían': 1,\n",
       " 'jugaban': 1,\n",
       " 'maullaba': 1,\n",
       " 'reía': 1,\n",
       " 'día': 2,\n",
       " 'tras': 1,\n",
       " 'su': 1,\n",
       " 'vivían': 1,\n",
       " 'momentos': 1,\n",
       " 'tranquilos': 1,\n",
       " 'juntos': 1}"
      ]
     },
     "execution_count": 28,
     "metadata": {},
     "output_type": "execute_result"
    }
   ],
   "source": [
    "import re\n",
    "\n",
    "\n",
    "texto37 = \"Juan tenía un gato. El gato dormía mucho. A veces Juan también dormía. Juan y el gato comían, dormían y jugaban. El gato maullaba.\" \\\n",
    "\" Juan reía. Día tras día, Juan y su gato vivían momentos tranquilos juntos.\"\n",
    "\n",
    "\n",
    "def contar_palabras(texto):\n",
    "       texto_limpio = re.sub(r'[^\\w\\s]', '', texto.lower()) # Convierte todo a minúsculas y quita los signos de puntuación\n",
    "       palabras = texto_limpio.split() #separa el texto en palabras\n",
    "       recuento_palabras = {} # crea un diccionario vacio\n",
    "       for palabra in palabras:\n",
    "              if palabra in recuento_palabras:\n",
    "                 recuento_palabras[palabra] += 1 # añade 1 a una palabra cada vez que se encuentra en el texto si ya existe en el diccionario\n",
    "              else:\n",
    "                    recuento_palabras[palabra] = 1 # crea la palabra en el diccionario\n",
    "       return recuento_palabras\n",
    "\n",
    "\n",
    "def reemplazar_palabras(texto,palabra_original,palabra_nueva):\n",
    "     nuevo_texto = texto.replace(palabra_original,palabra_nueva) # reemplaza una palabra por otra\n",
    "     return nuevo_texto\n",
    "\n",
    "       \n",
    "def eliminar_palabra(texto,palabra_eliminada):\n",
    "     texto_troncado = texto.replace(palabra_eliminada,\"\") #reemplaza una palabra con valor blanco sin espacio\n",
    "     return texto_troncado\n",
    "\n",
    "\n",
    "def procesar_texto(texto, opcion, *args): #define la funcion con el texto la opcion de funcion y *arg segun cuantos argumentos hara falta)\n",
    "    if opcion == \"contar\": # si la opcion es contar, se devuelve la funcion contar_palabras\n",
    "        return contar_palabras(texto)\n",
    "    elif opcion == \"reemplazar\":  # si la opcion es reemplazar, se devuelve la funcion reemplaza_palabras\n",
    "        if len(args) != 2: # condicion que hay 2 argumentos, si no se cumple devuelve un mensaje de error\n",
    "            return \"Error: Se requieren dos argumentos para reemplazar (palabra_original, palabra_nueva).\"\n",
    "        return reemplazar_palabras(texto, args[0], args[1]) # si hay 2 argumentos la funcion se cumple\n",
    "    elif opcion == \"eliminar\":  # si la opcion es eliminar, se devuelve la funcion eliminar_palabra\n",
    "        if len(args) != 1: # si falta o hay mas de 1 argumento, lanza un mensaje de error\n",
    "            return \"Error: Se requiere una palabra para eliminar.\"\n",
    "        return eliminar_palabra(texto, args[0]) # llama la funcion\n",
    "    else:\n",
    "        return \"Opción no válida. Usa: 'contar', 'reemplazar' o 'eliminar'.\" #devuelve un mensaje de error si no se cumple ninguna de la condiciones anteriores\n",
    "    \n",
    "\n",
    "\n",
    "\n",
    "print(procesar_texto(texto37,\"reemplazar\",\"gato\",\"raton\")) # ejemplo cambiando la palabra gato por raton\n",
    "print(procesar_texto(texto37,\"eliminar\", \"tranquilos\")) # elimina la palabra tranquilos si aparece el el texto\n",
    "procesar_texto(texto37,\"contar\") # ejecuta la funcion contar"
   ]
  },
  {
   "cell_type": "markdown",
   "id": "d5e21bdf",
   "metadata": {},
   "source": [
    "\n",
    "38. Genera un programa que nos diga si es de noche, de día o tarde según la hora proporcionada por el usuario.\n"
   ]
  },
  {
   "cell_type": "code",
   "execution_count": null,
   "id": "0c7f8070",
   "metadata": {},
   "outputs": [
    {
     "name": "stdout",
     "output_type": "stream",
     "text": [
      "numero invalido introduce solo el numero de la hora entre 0 y 23\n",
      "Tarde\n"
     ]
    }
   ],
   "source": [
    "def momento_dia():  \n",
    "    try:\n",
    "        hora = int(input(\"Entra la hora (0-23): \"))  # Solicita al usuario una hora y la convierte a entero\n",
    "        if 7 <= hora < 15:  # Evalúa si la hora está entre 7 y 14 inclusive\n",
    "            print(\"Día\")  # Imprime \"Día\" si está en ese rango\n",
    "        elif 15 <= hora < 23:  # Evalúa si la hora está entre 15 y 22 inclusive\n",
    "            print(\"Tarde\")  # Imprime \"Tarde\" si está en ese rango\n",
    "        else:\n",
    "            print(\"Noche\")  # Imprime \"Noche\" si la hora es menor a 7 o mayor o igual a 23\n",
    "\n",
    "    except ValueError:  # Captura el error si el usuario no introduce un número entero válido\n",
    "        print(\"Número inválido. Introduce solo el número de la hora entre 0 y 23\")  # Muestra mensaje de error al usuario\n",
    "        return momento_dia()  # Llama recursivamente a la función para que el usuario intente de nuevo\n",
    "\n",
    "momento_dia()\n"
   ]
  },
  {
   "cell_type": "markdown",
   "id": "2b53ba22",
   "metadata": {},
   "source": [
    "\n",
    "39. Escribe un programa que determine qué calificación en texto tiene un alumno en base a su calificación numérica.\n",
    "Las reglas de calificación son:\n",
    "- 0 - 69 insuficiente\n",
    "- 70 - 79 bien\n",
    "- 80 - 89 muy bien\n",
    "- 90 - 100 excelente\n"
   ]
  },
  {
   "cell_type": "code",
   "execution_count": null,
   "id": "9a9c2232",
   "metadata": {},
   "outputs": [
    {
     "name": "stdout",
     "output_type": "stream",
     "text": [
      "muy bien\n"
     ]
    }
   ],
   "source": [
    "\n",
    "def calificacion():  # Función que evalúa una nota numérica y muestra una categoría de desempeño\n",
    "    try:\n",
    "        nota = int(input(\"Entre la nota en formato numerico entre 0 y 100: \"))  # Solicita al usuario una nota numérica y la convierte a entero\n",
    "        if 89 < nota <= 100:  # Verifica si la nota está entre 90 y 100\n",
    "            print(\"excelente\")  # Muestra la categoría correspondiente\n",
    "        elif 79 < nota < 89:  # Verifica si la nota está entre 80 y 88\n",
    "            print(\"muy bien\")\n",
    "        elif 69 < nota < 79:  # Verifica si la nota está entre 70 y 78\n",
    "            print(\"bien\")\n",
    "        elif 0 <= nota < 69:  # Verifica si la nota está entre 0 y 68\n",
    "            print(\"insuficiente\")\n",
    "        else:\n",
    "            print(\"El valor entrado es incorrecto. Entre de nuevo la nota en formato numerico entre 0 y 100: \")  # Mensaje si la nota está fuera del rango permitido\n",
    "            calificacion()  # Llama recursivamente a la función para intentar de nuevo\n",
    "\n",
    "    except ValueError:  # Captura errores si el usuario introduce texto u otro valor no numérico\n",
    "        print(\"El valor entrado es incorrecto. Entre de nuevo la nota en formato numerico entre 0 y 100: \")  # Informa del error\n",
    "        return calificacion()  # Vuelve a ejecutar la función para permitir otro intento\n"
   ]
  },
  {
   "cell_type": "markdown",
   "id": "5cc39bf2",
   "metadata": {},
   "source": [
    "\n",
    "40. Escribe una función que tome dos parámetros: figura (una cadena que puede ser \"rectangulo\" , \"circulo\" o\n",
    "\"triangulo\" ) y datos (una tupla con los datos necesarios para calcular el área de la figura).\n"
   ]
  },
  {
   "cell_type": "code",
   "execution_count": 48,
   "id": "adca09ba",
   "metadata": {},
   "outputs": [
    {
     "name": "stdout",
     "output_type": "stream",
     "text": [
      "La superficie del rectangulo es de 6\n",
      "la superficie del circulo es de 12.566370614359172\n",
      "la superficie del triangulo es de (4, 2)\n"
     ]
    }
   ],
   "source": [
    "import math # Importa la biblioteca para operaciones matemáticas con pi\n",
    "\n",
    "def superficie(forma, medidas): \n",
    "    if forma == \"rectangulo\":\n",
    "        if len(medidas) != 2: # condiciona que tengamos 2 argumentos para procedr al calculo de superficie\n",
    "            print(\"se necesita en ancho y el largo del rectangulo para calcular su superficie\")\n",
    "        ancho, largo = medidas # Extrae las medidas\n",
    "        return ancho * largo # calcula superficie\n",
    "    elif forma == \"circulo\":\n",
    "        if len(medidas) != 1: # Verificamos que se pase solo el radio\n",
    "            print(\"se necesita en rayo del circulo para calcular su superficie\")\n",
    "        radio  = medidas[0]  # Obtenemos el radio correctamente (antes era una tupla)\n",
    "        return math.pi * radio ** 2 # calcula la spuerficie del circulo\n",
    "    elif forma == \"triangulo\":\n",
    "        if len(medidas) != 2:\n",
    "            print(\"se necesita la longitud de la base y la altura del triangulo para calcular su superficie\")\n",
    "        base, altura = medidas\n",
    "        return round((base * altura)/2),2 # calcula la superficie del triangulo\n",
    "    else:\n",
    "        return \"Forma no reconocida. Usa solo 'rectangulo', 'circulo' o 'triangulo'\"  # Manejo de opción no válida\n",
    "    \n",
    "print(f\"La superficie del rectangulo es de {superficie(\"rectangulo\",(2,3))}\")\n",
    "print(f\"la superficie del circulo es de {superficie(\"circulo\",(2,))}\")\n",
    "print(f\"la superficie del triangulo es de {superficie(\"triangulo\",(4,2))}\")\n",
    "  \n"
   ]
  },
  {
   "cell_type": "markdown",
   "id": "898a8bd5",
   "metadata": {},
   "source": [
    "\n",
    "41. En este ejercicio, se te pedirá que escribas un programa en Python que utilice condicionales para determinar el\n",
    "monto final de una compra en una tienda en línea, después de aplicar un descuento. El programa debe hacer lo\n",
    "siguiente:\n",
    "    1. Solicita al usuario que ingrese el precio original de un artículo.\n",
    "    2. Pregunta al usuario si tiene un cupón de descuento (respuesta sí o no).\n",
    "    3. Si el usuario responde que sí, solicita que ingrese el valor del cupón de descuento.\n",
    "    4. Aplica el descuento al precio original del artículo, siempre y cuando el valor del cupón sea válido (es decir, mayor\n",
    "    a cero). Por ejemplo, descuento de 15€.\n",
    "    5. Muestra el precio final de la compra, teniendo en cuenta el descuento aplicado o sin él.\n",
    "    6. Recuerda utilizar estructuras de control de flujo como if, elif y else para llevar a cabo estas acciones en tu\n",
    "programa de Python.\n"
   ]
  },
  {
   "cell_type": "code",
   "execution_count": null,
   "id": "579588f4",
   "metadata": {},
   "outputs": [
    {
     "name": "stdout",
     "output_type": "stream",
     "text": [
      "El precio final es de 65.98 €\n"
     ]
    }
   ],
   "source": [
    "def monto_final():\n",
    "    try:\n",
    "        precio_original = float(input(\"Ingresa el precio original del articulo: \")) #Solicita al usuario que ingrese el precio original de un artículo.\n",
    "        if precio_original <= 0:\n",
    "            print(\"Error: El precio original debe ser un número positivo. Inténtalo de nuevo.\")\n",
    "            return monto_final()\n",
    "        tiene_descuento = str(input(\"Indica por 'sí' o 'no' si tienes descuento: \")).strip().lower() #Pregunta al usuario si tiene un cupón de descuento quitando espacio y mayusculas\n",
    "        if tiene_descuento not in [\"sí\", \"si\", \"no\"]:\n",
    "            print(\"Error: Respuesta incorrecta. Solo se acepta 'sí' o 'no'. Inténtalo de nuevo.\")\n",
    "            return monto_final()\n",
    "            valor_descuento = 0 # crea valor con zero\n",
    "        if tiene_descuento == \"sí\" or tiene_descuento == \"si\": # condicion para acceptar respuestas con o sin tilde\n",
    "            valor_descuento = float(input(\"Indique el valor del descuento: \"))\n",
    "            if valor_descuento <= 0 or precio_original < valor_descuento:\n",
    "                print(\"el importe introducido no se puede aplicar, se aplicara el precio original\")\n",
    "                valor_descuento = 0\n",
    "            precio_final = precio_original - valor_descuento\n",
    "            print(f\"El precio final es de {precio_final:.2f} €\") #devuleve resultado con un maximo de 2 decimales\n",
    "    except ValueError:\n",
    "        print(\"el precio introducido es incorrecto, vuelve a introducir el precio original del articulo: \")\n",
    "        \n",
    "\n",
    "\n",
    "monto_final()"
   ]
  }
 ],
 "metadata": {
  "kernelspec": {
   "display_name": "Python 3",
   "language": "python",
   "name": "python3"
  },
  "language_info": {
   "codemirror_mode": {
    "name": "ipython",
    "version": 3
   },
   "file_extension": ".py",
   "mimetype": "text/x-python",
   "name": "python",
   "nbconvert_exporter": "python",
   "pygments_lexer": "ipython3",
   "version": "3.13.1"
  }
 },
 "nbformat": 4,
 "nbformat_minor": 5
}
